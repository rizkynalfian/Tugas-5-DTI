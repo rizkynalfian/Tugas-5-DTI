{
  "nbformat": 4,
  "nbformat_minor": 0,
  "metadata": {
    "colab": {
      "name": "Untitled1.ipynb",
      "provenance": [],
      "collapsed_sections": [],
      "authorship_tag": "ABX9TyOzmcFoO9V1o+zEQw1uRkak",
      "include_colab_link": true
    },
    "kernelspec": {
      "name": "python3",
      "display_name": "Python 3"
    }
  },
  "cells": [
    {
      "cell_type": "markdown",
      "metadata": {
        "id": "view-in-github",
        "colab_type": "text"
      },
      "source": [
        "<a href=\"https://colab.research.google.com/github/rizkynalfian/Tugas-5-DTI/blob/master/Multiple-regression-linear.ipynb\" target=\"_parent\"><img src=\"https://colab.research.google.com/assets/colab-badge.svg\" alt=\"Open In Colab\"/></a>"
      ]
    },
    {
      "cell_type": "markdown",
      "metadata": {
        "id": "f-9i6OHjKFJU"
      },
      "source": [
        "# **Regression**\n",
        "Regression analysis is a basic method used in statistical analysis of data. It’s a statistical method which allows estimating the relationships among variables. One needs to identify dependent variable which will vary based on the value of the independent variable."
      ]
    },
    {
      "cell_type": "code",
      "metadata": {
        "id": "3BeCbU0YIT2w"
      },
      "source": [
        "import pandas as pd\n",
        "import statsmodels.api as sm\n",
        "import seaborn as sns\n",
        "import matplotlib.pyplot as plt\n",
        "import warnings\n",
        "from sklearn import linear_model\n",
        "\n",
        "warnings.filterwarnings('ignore')\n",
        "plt.rcParams['figure.figsize'] = (7,7)\n",
        "plt.style.use('ggplot')"
      ],
      "execution_count": 34,
      "outputs": []
    },
    {
      "cell_type": "code",
      "metadata": {
        "id": "v3GZtagkIbAo",
        "outputId": "11a1a8cc-485f-4941-96f6-b9306c212093",
        "colab": {
          "base_uri": "https://localhost:8080/",
          "height": 514
        }
      },
      "source": [
        "# Import Dataset\n",
        "df_piesales = pd.read_csv('https://raw.githubusercontent.com/rc-dbe/dti/main/data/pie-sales.csv', sep =\";\")\n",
        "df_piesales"
      ],
      "execution_count": 35,
      "outputs": [
        {
          "output_type": "execute_result",
          "data": {
            "text/html": [
              "<div>\n",
              "<style scoped>\n",
              "    .dataframe tbody tr th:only-of-type {\n",
              "        vertical-align: middle;\n",
              "    }\n",
              "\n",
              "    .dataframe tbody tr th {\n",
              "        vertical-align: top;\n",
              "    }\n",
              "\n",
              "    .dataframe thead th {\n",
              "        text-align: right;\n",
              "    }\n",
              "</style>\n",
              "<table border=\"1\" class=\"dataframe\">\n",
              "  <thead>\n",
              "    <tr style=\"text-align: right;\">\n",
              "      <th></th>\n",
              "      <th>week</th>\n",
              "      <th>pie_sales</th>\n",
              "      <th>price</th>\n",
              "      <th>advertising</th>\n",
              "    </tr>\n",
              "  </thead>\n",
              "  <tbody>\n",
              "    <tr>\n",
              "      <th>0</th>\n",
              "      <td>1</td>\n",
              "      <td>350</td>\n",
              "      <td>5.5</td>\n",
              "      <td>3.3</td>\n",
              "    </tr>\n",
              "    <tr>\n",
              "      <th>1</th>\n",
              "      <td>2</td>\n",
              "      <td>460</td>\n",
              "      <td>7.5</td>\n",
              "      <td>3.3</td>\n",
              "    </tr>\n",
              "    <tr>\n",
              "      <th>2</th>\n",
              "      <td>3</td>\n",
              "      <td>350</td>\n",
              "      <td>8.0</td>\n",
              "      <td>3.0</td>\n",
              "    </tr>\n",
              "    <tr>\n",
              "      <th>3</th>\n",
              "      <td>4</td>\n",
              "      <td>430</td>\n",
              "      <td>8.0</td>\n",
              "      <td>4.5</td>\n",
              "    </tr>\n",
              "    <tr>\n",
              "      <th>4</th>\n",
              "      <td>5</td>\n",
              "      <td>350</td>\n",
              "      <td>6.8</td>\n",
              "      <td>3.0</td>\n",
              "    </tr>\n",
              "    <tr>\n",
              "      <th>5</th>\n",
              "      <td>6</td>\n",
              "      <td>380</td>\n",
              "      <td>7.5</td>\n",
              "      <td>4.0</td>\n",
              "    </tr>\n",
              "    <tr>\n",
              "      <th>6</th>\n",
              "      <td>7</td>\n",
              "      <td>430</td>\n",
              "      <td>4.5</td>\n",
              "      <td>3.0</td>\n",
              "    </tr>\n",
              "    <tr>\n",
              "      <th>7</th>\n",
              "      <td>8</td>\n",
              "      <td>470</td>\n",
              "      <td>6.4</td>\n",
              "      <td>3.7</td>\n",
              "    </tr>\n",
              "    <tr>\n",
              "      <th>8</th>\n",
              "      <td>9</td>\n",
              "      <td>450</td>\n",
              "      <td>7.0</td>\n",
              "      <td>3.5</td>\n",
              "    </tr>\n",
              "    <tr>\n",
              "      <th>9</th>\n",
              "      <td>10</td>\n",
              "      <td>490</td>\n",
              "      <td>5.0</td>\n",
              "      <td>4.0</td>\n",
              "    </tr>\n",
              "    <tr>\n",
              "      <th>10</th>\n",
              "      <td>11</td>\n",
              "      <td>340</td>\n",
              "      <td>7.2</td>\n",
              "      <td>3.5</td>\n",
              "    </tr>\n",
              "    <tr>\n",
              "      <th>11</th>\n",
              "      <td>12</td>\n",
              "      <td>300</td>\n",
              "      <td>7.9</td>\n",
              "      <td>3.2</td>\n",
              "    </tr>\n",
              "    <tr>\n",
              "      <th>12</th>\n",
              "      <td>13</td>\n",
              "      <td>440</td>\n",
              "      <td>5.9</td>\n",
              "      <td>4.0</td>\n",
              "    </tr>\n",
              "    <tr>\n",
              "      <th>13</th>\n",
              "      <td>14</td>\n",
              "      <td>450</td>\n",
              "      <td>5.0</td>\n",
              "      <td>3.5</td>\n",
              "    </tr>\n",
              "    <tr>\n",
              "      <th>14</th>\n",
              "      <td>15</td>\n",
              "      <td>300</td>\n",
              "      <td>7.0</td>\n",
              "      <td>2.7</td>\n",
              "    </tr>\n",
              "  </tbody>\n",
              "</table>\n",
              "</div>"
            ],
            "text/plain": [
              "    week  pie_sales  price  advertising\n",
              "0      1        350    5.5          3.3\n",
              "1      2        460    7.5          3.3\n",
              "2      3        350    8.0          3.0\n",
              "3      4        430    8.0          4.5\n",
              "4      5        350    6.8          3.0\n",
              "5      6        380    7.5          4.0\n",
              "6      7        430    4.5          3.0\n",
              "7      8        470    6.4          3.7\n",
              "8      9        450    7.0          3.5\n",
              "9     10        490    5.0          4.0\n",
              "10    11        340    7.2          3.5\n",
              "11    12        300    7.9          3.2\n",
              "12    13        440    5.9          4.0\n",
              "13    14        450    5.0          3.5\n",
              "14    15        300    7.0          2.7"
            ]
          },
          "metadata": {
            "tags": []
          },
          "execution_count": 35
        }
      ]
    },
    {
      "cell_type": "code",
      "metadata": {
        "id": "IXUiBybeIeDP",
        "outputId": "bd8f5443-1c25-454a-e7ba-492bb4c5d203",
        "colab": {
          "base_uri": "https://localhost:8080/",
          "height": 462
        }
      },
      "source": [
        "# Visualisasi data menggunakan scatterplot\n",
        "sns.scatterplot(x=\"pie_sales\", y=\"price\", data= df_piesales)"
      ],
      "execution_count": 36,
      "outputs": [
        {
          "output_type": "execute_result",
          "data": {
            "text/plain": [
              "<matplotlib.axes._subplots.AxesSubplot at 0x7f638fb932e8>"
            ]
          },
          "metadata": {
            "tags": []
          },
          "execution_count": 36
        },
        {
          "output_type": "display_data",
          "data": {
            "image/png": "[encoded data removed]",
            "text/plain": [
              "<Figure size 504x504 with 1 Axes>"
            ]
          },
          "metadata": {
            "tags": []
          }
        }
      ]
    },
    {
      "cell_type": "code",
      "metadata": {
        "id": "a_P9P6CTIjxV",
        "outputId": "bdd5f67a-1aa0-451d-af11-97bf25f75b0b",
        "colab": {
          "base_uri": "https://localhost:8080/",
          "height": 462
        }
      },
      "source": [
        "# Visualisasi data menggunakan scatterplot\n",
        "sns.scatterplot(x=\"price\", y=\"advertising\", data= df_piesales)"
      ],
      "execution_count": 37,
      "outputs": [
        {
          "output_type": "execute_result",
          "data": {
            "text/plain": [
              "<matplotlib.axes._subplots.AxesSubplot at 0x7f638fb122b0>"
            ]
          },
          "metadata": {
            "tags": []
          },
          "execution_count": 37
        },
        {
          "output_type": "display_data",
          "data": {
            "image/png": "[encoded data removed]",
            "text/plain": [
              "<Figure size 504x504 with 1 Axes>"
            ]
          },
          "metadata": {
            "tags": []
          }
        }
      ]
    },
    {
      "cell_type": "markdown",
      "metadata": {
        "id": "SHQVIK2-Iqpr"
      },
      "source": [
        "# **Regression using Sklearn**"
      ]
    },
    {
      "cell_type": "code",
      "metadata": {
        "id": "XsHGHioIIxU-"
      },
      "source": [
        "X = df_piesales[['pie_sales']]\n",
        "Y = df_piesales['price']\n",
        "Z = df_piesales ['advertising']"
      ],
      "execution_count": 38,
      "outputs": []
    },
    {
      "cell_type": "code",
      "metadata": {
        "id": "s0U5hJyLI7m9",
        "outputId": "b7545fd2-5a60-4bd1-90b2-ed23c089cdee",
        "colab": {
          "base_uri": "https://localhost:8080/",
          "height": 34
        }
      },
      "source": [
        "# with sklearn\n",
        "regr = linear_model.LinearRegression()\n",
        "regr.fit(X, Y, Z)"
      ],
      "execution_count": 39,
      "outputs": [
        {
          "output_type": "execute_result",
          "data": {
            "text/plain": [
              "LinearRegression(copy_X=True, fit_intercept=True, n_jobs=None, normalize=False)"
            ]
          },
          "metadata": {
            "tags": []
          },
          "execution_count": 39
        }
      ]
    },
    {
      "cell_type": "code",
      "metadata": {
        "id": "b67ebNnSI-q4",
        "outputId": "a8cc0b0a-3fcb-43c3-c0ed-22936fa437a6",
        "colab": {
          "base_uri": "https://localhost:8080/",
          "height": 85
        }
      },
      "source": [
        "print('Intercept: \\n', regr.intercept_)\n",
        "print('Coefficients: \\n', regr.coef_)"
      ],
      "execution_count": 29,
      "outputs": [
        {
          "output_type": "stream",
          "text": [
            "Intercept: \n",
            " 9.948886708083691\n",
            "Coefficients: \n",
            " [-0.00824545]\n"
          ],
          "name": "stdout"
        }
      ]
    },
    {
      "cell_type": "code",
      "metadata": {
        "id": "iiQOk1WhJECz",
        "outputId": "b2d1dd3c-7773-4bf4-c27e-403e7a54d2ef",
        "colab": {
          "base_uri": "https://localhost:8080/",
          "height": 428
        }
      },
      "source": [
        "# Visualizing Linear Regression\n",
        "plt.scatter(X, Y, Z)\n",
        "plt.plot(X, regr.predict(X), color = \"green\")\n",
        "plt.show()"
      ],
      "execution_count": 30,
      "outputs": [
        {
          "output_type": "display_data",
          "data": {
            "image/png": "[encoded data removed]",
            "text/plain": [
              "<Figure size 504x504 with 1 Axes>"
            ]
          },
          "metadata": {
            "tags": []
          }
        }
      ]
    },
    {
      "cell_type": "code",
      "metadata": {
        "id": "Rc-ne8CQJFlG",
        "outputId": "151eed36-3934-4d33-ff8f-c3419e9321b9",
        "colab": {
          "base_uri": "https://localhost:8080/",
          "height": 51
        }
      },
      "source": [
        "# prediksi dengan sklearn\n",
        "new_pie_sales = 2500\n",
        "print ('Predicted  pie price: \\n', regr.predict([[new_pie_sales]]))"
      ],
      "execution_count": 31,
      "outputs": [
        {
          "output_type": "stream",
          "text": [
            "Predicted  pie price: \n",
            " [-10.66474801]\n"
          ],
          "name": "stdout"
        }
      ]
    },
    {
      "cell_type": "markdown",
      "metadata": {
        "id": "TPa9dljXJPtE"
      },
      "source": [
        "# **Regression using Statsmodels**"
      ]
    },
    {
      "cell_type": "code",
      "metadata": {
        "id": "LDHzRXexJYF1"
      },
      "source": [
        "X = sm.add_constant(X) # adding a constant"
      ],
      "execution_count": 32,
      "outputs": []
    },
    {
      "cell_type": "code",
      "metadata": {
        "id": "XT2r1-fDJbj2",
        "outputId": "8e18bd52-43a9-443a-c4ae-d6d200758aa7",
        "colab": {
          "base_uri": "https://localhost:8080/",
          "height": 476
        }
      },
      "source": [
        "model = sm.OLS(Y, X,).fit()\n",
        "predictions = model.predict(X) \n",
        "\n",
        "print_model = model.summary()\n",
        "print(print_model)"
      ],
      "execution_count": 33,
      "outputs": [
        {
          "output_type": "stream",
          "text": [
            "                            OLS Regression Results                            \n",
            "==============================================================================\n",
            "Dep. Variable:                  price   R-squared:                       0.196\n",
            "Model:                            OLS   Adj. R-squared:                  0.135\n",
            "Method:                 Least Squares   F-statistic:                     3.179\n",
            "Date:                Fri, 23 Oct 2020   Prob (F-statistic):             0.0979\n",
            "Time:                        15:48:43   Log-Likelihood:                -21.502\n",
            "No. Observations:                  15   AIC:                             47.00\n",
            "Df Residuals:                      13   BIC:                             48.42\n",
            "Df Model:                           1                                         \n",
            "Covariance Type:            nonrobust                                         \n",
            "==============================================================================\n",
            "                 coef    std err          t      P>|t|      [0.025      0.975]\n",
            "------------------------------------------------------------------------------\n",
            "const          9.8781      1.853      5.332      0.000       5.876      13.880\n",
            "pie_sales     -0.0082      0.005     -1.783      0.098      -0.018       0.002\n",
            "==============================================================================\n",
            "Omnibus:                        0.764   Durbin-Watson:                   2.012\n",
            "Prob(Omnibus):                  0.682   Jarque-Bera (JB):                0.686\n",
            "Skew:                          -0.220   Prob(JB):                        0.710\n",
            "Kurtosis:                       2.049   Cond. No.                     2.66e+03\n",
            "==============================================================================\n",
            "\n",
            "Warnings:\n",
            "[1] Standard Errors assume that the covariance matrix of the errors is correctly specified.\n",
            "[2] The condition number is large, 2.66e+03. This might indicate that there are\n",
            "strong multicollinearity or other numerical problems.\n"
          ],
          "name": "stdout"
        }
      ]
    }
  ]
}